{
 "cells": [
  {
   "cell_type": "code",
   "execution_count": 1,
   "metadata": {
    "id": "VgqZLX2tOXDu",
    "ExecuteTime": {
     "end_time": "2023-11-24T22:49:07.255633400Z",
     "start_time": "2023-11-24T22:49:07.149543500Z"
    }
   },
   "outputs": [],
   "source": [
    "import os\n",
    "from dotenv import load_dotenv\n",
    "import googlemaps\n",
    "import csv\n",
    "import time \n",
    "\n",
    "load_dotenv('.env')\n",
    "\n",
    "API_KEY = os.environ.get(\"API_KEY\")\n",
    "gmaps = googlemaps.Client(key=API_KEY)"
   ]
  },
  {
   "cell_type": "code",
   "execution_count": 2,
   "metadata": {
    "colab": {
     "base_uri": "https://localhost:8080/"
    },
    "id": "bezunTJAFKGE",
    "outputId": "5470bf9f-f2be-41e1-c149-54617ce055b5",
    "ExecuteTime": {
     "end_time": "2023-11-24T22:49:08.645600700Z",
     "start_time": "2023-11-24T22:49:08.621741Z"
    }
   },
   "outputs": [],
   "source": [
    "area_name = 'Pimpri'\n",
    "place_keyword = 'diagnostic center'\n",
    "radius_in_km = 10"
   ]
  },
  {
   "cell_type": "code",
   "execution_count": 4,
   "outputs": [],
   "source": [
    "geocode_result = gmaps.geocode(area_name)\n",
    "location = geocode_result[0]['geometry']['location']\n",
    "\n",
    "places_result = gmaps.places_nearby(\n",
    "    location=location,\n",
    "    radius=radius_in_km*1000,\n",
    "    keyword=place_keyword,\n",
    ")"
   ],
   "metadata": {
    "collapsed": false,
    "ExecuteTime": {
     "end_time": "2023-11-24T22:49:29.680511300Z",
     "start_time": "2023-11-24T22:49:27.769479Z"
    }
   }
  },
  {
   "cell_type": "code",
   "execution_count": 5,
   "outputs": [],
   "source": [
    "all_place_ids = []\n",
    "\n",
    "all_place_ids.extend([place['place_id'] for place in places_result.get('results', [])])\n",
    "\n",
    "# Check if there are more pages and retrieve them\n",
    "while 'next_page_token' in places_result:\n",
    "    next_page_token = places_result['next_page_token']\n",
    "    \n",
    "    # Pause for a short time to allow the next page to be generated\n",
    "    time.sleep(2)\n",
    "\n",
    "    # Make a request with the page token to get the next page of results\n",
    "    places_result = gmaps.places_nearby(\n",
    "        location=location,\n",
    "        radius=radius_in_km * 1000,\n",
    "        keyword=place_keyword,\n",
    "        page_token=next_page_token\n",
    "    )\n",
    "\n",
    "    # Extract place IDs from the result and add them to the all_place_ids list\n",
    "    all_place_ids.extend([place['place_id'] for place in places_result.get('results', [])])"
   ],
   "metadata": {
    "collapsed": false,
    "ExecuteTime": {
     "end_time": "2023-11-24T22:49:35.520014700Z",
     "start_time": "2023-11-24T22:49:30.416378300Z"
    }
   }
  },
  {
   "cell_type": "code",
   "execution_count": 7,
   "outputs": [
    {
     "name": "stdout",
     "output_type": "stream",
     "text": [
      "Details saved to data/60_diagnostic center_Pimpri_10km.csv\n"
     ]
    }
   ],
   "source": [
    "csv_file_path = f\"data/{len(all_place_ids)}_{place_keyword}_{area_name}_{radius_in_km}km.csv\"\n",
    "with open(csv_file_path, 'w', newline='', encoding='utf-8') as csv_file:\n",
    "    csv_writer = csv.writer(csv_file)\n",
    "    csv_writer.writerow(['Name', 'Address', 'Phone Number', 'URL'])\n",
    "\n",
    "    # Write details to the CSV file\n",
    "    for place_id in all_place_ids:\n",
    "        # Fetch details for the current place ID\n",
    "        place_details = gmaps.place(place_id=place_id, fields=['name', 'formatted_address', 'formatted_phone_number', 'url'])\n",
    "        \n",
    "        # Extract details\n",
    "        name = place_details['result']['name']\n",
    "        phone_number = place_details['result'].get('formatted_phone_number', '')\n",
    "        address = place_details['result']['formatted_address']\n",
    "        url = place_details['result'].get('url', '')\n",
    "\n",
    "        # Write details to the CSV file\n",
    "        csv_writer.writerow([name, address, phone_number, url])\n",
    "\n",
    "print(f\"Details saved to {csv_file_path}\")"
   ],
   "metadata": {
    "collapsed": false,
    "ExecuteTime": {
     "end_time": "2023-11-24T22:51:38.030140700Z",
     "start_time": "2023-11-24T22:51:29.818363500Z"
    }
   }
  },
  {
   "cell_type": "code",
   "execution_count": null,
   "outputs": [],
   "source": [],
   "metadata": {
    "collapsed": false
   }
  }
 ],
 "metadata": {
  "colab": {
   "provenance": []
  },
  "kernelspec": {
   "name": "python3",
   "language": "python",
   "display_name": "Python 3 (ipykernel)"
  },
  "language_info": {
   "codemirror_mode": {
    "name": "ipython",
    "version": 3
   },
   "file_extension": ".py",
   "mimetype": "text/x-python",
   "name": "python",
   "nbconvert_exporter": "python",
   "pygments_lexer": "ipython3",
   "version": "3.11.6"
  }
 },
 "nbformat": 4,
 "nbformat_minor": 0
}
